{
 "cells": [
  {
   "cell_type": "markdown",
   "metadata": {},
   "source": [
    "<h1><u>Atividade 4</u></h1>\n",
    "\n",
    "<h4>Projeto Integrador de Competência em Ciência de Dados</h4>\n",
    "\n",
    "<p><em>\n",
    "\n",
    "\n",
    "</em></p>"
   ]
  },
  {
   "cell_type": "code",
   "execution_count": 93,
   "metadata": {},
   "outputs": [],
   "source": [
    "import math"
   ]
  },
  {
   "cell_type": "code",
   "execution_count": 94,
   "metadata": {},
   "outputs": [],
   "source": [
    "def div_grupos(a, b):\n",
    "    return a // b\n",
    "\n",
    "def div_resto(a, b):\n",
    "    return a % b"
   ]
  },
  {
   "cell_type": "code",
   "execution_count": 95,
   "metadata": {},
   "outputs": [
    {
     "name": "stdout",
     "output_type": "stream",
     "text": [
      "teremos 1 grupos de 1 pessoas\n",
      "Não sobrou ninguem\n"
     ]
    }
   ],
   "source": [
    "contidadeAlunos = int(input(\"Quantos alunos nessa turma? \"))\n",
    "contidadeElementos = int(input(\"Quantos elementos teremos? \"))\n",
    "\n",
    "\n",
    "pessoas_grupos = (div_grupos(contidadeAlunos, contidadeElementos))\n",
    "grupos_diferentes = math.floor(contidadeAlunos // pessoas_grupos)\n",
    "resto = div_resto(contidadeAlunos, contidadeElementos)\n",
    "if resto > 0:\n",
    "    grupos_diferentes_resto = math.floor((contidadeAlunos - 1) // pessoas_grupos)\n",
    "    #print(f\"teremos {grupos_diferentes_resto} grupos de {pessoas_grupos}\")\n",
    "    if pessoas_grupos > 1:\n",
    "        print(f\"teremos {grupos_diferentes_resto} grupos de {pessoas_grupos} pessoas\")\n",
    "    else:\n",
    "        print(f\"teremos {grupos_diferentes_resto} grupos de {pessoas_grupos} pessoa\")\n",
    "        \n",
    "    print(f\"Sobrou {resto} para entrar em algum grupo que ira ficar com mais pessoas\")\n",
    "else:\n",
    "    print(f\"teremos {grupos_diferentes} grupos de {pessoas_grupos} pessoas\")\n",
    "    print(\"Não sobrou ninguem\")\n"
   ]
  }
 ],
 "metadata": {
  "interpreter": {
   "hash": "46b936ff1622c326d442b837a2b71fa5dbcf20e52e3a75b5ec5a0d8bfc7f438d"
  },
  "kernelspec": {
   "display_name": "Python 3.8.8 ('base')",
   "language": "python",
   "name": "python3"
  },
  "language_info": {
   "codemirror_mode": {
    "name": "ipython",
    "version": 3
   },
   "file_extension": ".py",
   "mimetype": "text/x-python",
   "name": "python",
   "nbconvert_exporter": "python",
   "pygments_lexer": "ipython3",
   "version": "3.8.8"
  },
  "orig_nbformat": 4
 },
 "nbformat": 4,
 "nbformat_minor": 2
}
